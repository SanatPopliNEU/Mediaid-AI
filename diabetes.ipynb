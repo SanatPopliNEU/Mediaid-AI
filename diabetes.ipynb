{
 "cells": [
  {
   "cell_type": "code",
   "execution_count": 39,
   "id": "51c5fe9e",
   "metadata": {},
   "outputs": [
    {
     "name": "stderr",
     "output_type": "stream",
     "text": [
      "4078.38s - pydevd: Sending message related to process being replaced timed-out after 5 seconds\n"
     ]
    },
    {
     "name": "stdout",
     "output_type": "stream",
     "text": [
      "Requirement already satisfied: scikit-learn in /Users/anusreemohanan/.pyenv/versions/3.11.7/lib/python3.11/site-packages (1.6.1)\n",
      "Requirement already satisfied: numpy>=1.19.5 in /Users/anusreemohanan/.pyenv/versions/3.11.7/lib/python3.11/site-packages (from scikit-learn) (2.2.6)\n",
      "Requirement already satisfied: scipy>=1.6.0 in /Users/anusreemohanan/.pyenv/versions/3.11.7/lib/python3.11/site-packages (from scikit-learn) (1.16.1)\n",
      "Requirement already satisfied: joblib>=1.2.0 in /Users/anusreemohanan/.pyenv/versions/3.11.7/lib/python3.11/site-packages (from scikit-learn) (1.5.1)\n",
      "Requirement already satisfied: threadpoolctl>=3.1.0 in /Users/anusreemohanan/.pyenv/versions/3.11.7/lib/python3.11/site-packages (from scikit-learn) (3.6.0)\n",
      "\n",
      "\u001b[1m[\u001b[0m\u001b[34;49mnotice\u001b[0m\u001b[1;39;49m]\u001b[0m\u001b[39;49m A new release of pip is available: \u001b[0m\u001b[31;49m23.2.1\u001b[0m\u001b[39;49m -> \u001b[0m\u001b[32;49m25.2\u001b[0m\n",
      "\u001b[1m[\u001b[0m\u001b[34;49mnotice\u001b[0m\u001b[1;39;49m]\u001b[0m\u001b[39;49m To update, run: \u001b[0m\u001b[32;49mpip install --upgrade pip\u001b[0m\n",
      "\n",
      "\u001b[1m[\u001b[0m\u001b[34;49mnotice\u001b[0m\u001b[1;39;49m]\u001b[0m\u001b[39;49m A new release of pip is available: \u001b[0m\u001b[31;49m23.2.1\u001b[0m\u001b[39;49m -> \u001b[0m\u001b[32;49m25.2\u001b[0m\n",
      "\u001b[1m[\u001b[0m\u001b[34;49mnotice\u001b[0m\u001b[1;39;49m]\u001b[0m\u001b[39;49m To update, run: \u001b[0m\u001b[32;49mpip install --upgrade pip\u001b[0m\n",
      "Note: you may need to restart the kernel to use updated packages.\n",
      "Note: you may need to restart the kernel to use updated packages.\n"
     ]
    }
   ],
   "source": [
    "%pip install scikit-learn"
   ]
  },
  {
   "cell_type": "code",
   "execution_count": 40,
   "id": "77dfbc21",
   "metadata": {},
   "outputs": [],
   "source": [
    "# Import required libraries\n",
    "import pandas as pd\n",
    "import numpy as np\n",
    "from sklearn.model_selection import train_test_split\n",
    "from sklearn.preprocessing import StandardScaler"
   ]
  },
  {
   "cell_type": "code",
   "execution_count": 41,
   "id": "898a86d1",
   "metadata": {},
   "outputs": [],
   "source": [
    "# Load the dataset\n",
    "df = pd.read_csv(\"datasets/diabetes.csv\")"
   ]
  },
  {
   "cell_type": "code",
   "execution_count": 42,
   "id": "019342a0",
   "metadata": {},
   "outputs": [
    {
     "name": "stdout",
     "output_type": "stream",
     "text": [
      "Initial shape: (768, 9)\n",
      "Missing values per column:\n",
      " Pregnancies                 0\n",
      "Glucose                     0\n",
      "BloodPressure               0\n",
      "SkinThickness               0\n",
      "Insulin                     0\n",
      "BMI                         0\n",
      "DiabetesPedigreeFunction    0\n",
      "Age                         0\n",
      "Outcome                     0\n",
      "dtype: int64\n"
     ]
    }
   ],
   "source": [
    "# Check for nulls and print shape\n",
    "print(\"Initial shape:\", df.shape)\n",
    "print(\"Missing values per column:\\n\", df.isnull().sum())\n"
   ]
  },
  {
   "cell_type": "code",
   "execution_count": 43,
   "id": "7f8d0588",
   "metadata": {},
   "outputs": [],
   "source": [
    "cols_with_zeros = ['Glucose', 'BloodPressure', 'SkinThickness', 'Insulin', 'BMI']\n",
    "df[cols_with_zeros] = df[cols_with_zeros].replace(0, np.nan)\n",
    "df.fillna(df.median(), inplace=True)"
   ]
  },
  {
   "cell_type": "code",
   "execution_count": 44,
   "id": "76ddf8ba",
   "metadata": {},
   "outputs": [],
   "source": [
    "# Separate features and target\n",
    "X = df.drop('Outcome', axis=1)\n",
    "y = df['Outcome']"
   ]
  },
  {
   "cell_type": "code",
   "execution_count": 45,
   "id": "a8a3b833",
   "metadata": {},
   "outputs": [],
   "source": [
    "# Normalize numerical features\n",
    "scaler = StandardScaler()\n",
    "X_scaled = pd.DataFrame(scaler.fit_transform(X), columns=X.columns)\n"
   ]
  },
  {
   "cell_type": "code",
   "execution_count": 46,
   "id": "62f8dd14",
   "metadata": {},
   "outputs": [],
   "source": [
    "# Train/test split\n",
    "X_train, X_test, y_train, y_test = train_test_split(\n",
    "    X_scaled, y, test_size=0.2, random_state=42)"
   ]
  },
  {
   "cell_type": "code",
   "execution_count": 47,
   "id": "43f8b907",
   "metadata": {},
   "outputs": [],
   "source": [
    "#Save processed datasets (optional)\n",
    "X_train.to_csv(\"datasets/X_train_diabetes.csv\", index=False)\n",
    "X_test.to_csv(\"datasets/X_test_diabetes.csv\", index=False)\n",
    "y_train.to_csv(\"datasets/y_train_diabetes.csv\", index=False)\n",
    "y_test.to_csv(\"datasets/y_test_diabetes.csv\", index=False)"
   ]
  },
  {
   "cell_type": "code",
   "execution_count": 48,
   "id": "7050cc9f",
   "metadata": {},
   "outputs": [
    {
     "name": "stdout",
     "output_type": "stream",
     "text": [
      "✅ Accuracy: 0.7532467532467533\n",
      "📊 Classification Report:\n",
      "               precision    recall  f1-score   support\n",
      "\n",
      "           0       0.80      0.83      0.81        99\n",
      "           1       0.67      0.62      0.64        55\n",
      "\n",
      "    accuracy                           0.75       154\n",
      "   macro avg       0.73      0.72      0.73       154\n",
      "weighted avg       0.75      0.75      0.75       154\n",
      "\n"
     ]
    }
   ],
   "source": [
    "from sklearn.ensemble import RandomForestClassifier\n",
    "from sklearn.metrics import accuracy_score, classification_report\n",
    "\n",
    "# Initialize and train Random Forest\n",
    "rf = RandomForestClassifier(\n",
    "    n_estimators=100,      # Number of trees\n",
    "    max_depth=5,           # Try tuning this\n",
    "    random_state=42\n",
    ")\n",
    "rf.fit(X_train, y_train)\n",
    "\n",
    "# Predict\n",
    "y_pred_rf = rf.predict(X_test)\n",
    "\n",
    "# Evaluate\n",
    "print(\"✅ Accuracy:\", accuracy_score(y_test, y_pred_rf))\n",
    "print(\"📊 Classification Report:\\n\", classification_report(y_test, y_pred_rf))\n"
   ]
  },
  {
   "cell_type": "code",
   "execution_count": 49,
   "id": "c60be13a",
   "metadata": {},
   "outputs": [
    {
     "name": "stdout",
     "output_type": "stream",
     "text": [
      "Fitting 5 folds for each of 12 candidates, totalling 60 fits\n",
      "[CV] END ...max_depth=3, max_features=sqrt, n_estimators=100; total time=   0.1s\n",
      "[CV] END ...max_depth=3, max_features=sqrt, n_estimators=100; total time=   0.1s\n",
      "[CV] END ...max_depth=3, max_features=sqrt, n_estimators=100; total time=   0.1s\n",
      "[CV] END ...max_depth=3, max_features=sqrt, n_estimators=100; total time=   0.1s\n",
      "[CV] END ...max_depth=3, max_features=sqrt, n_estimators=100; total time=   0.1s\n",
      "[CV] END ...max_depth=3, max_features=sqrt, n_estimators=100; total time=   0.1s\n",
      "[CV] END ...max_depth=3, max_features=sqrt, n_estimators=100; total time=   0.1s\n",
      "[CV] END ...max_depth=3, max_features=sqrt, n_estimators=100; total time=   0.1s\n",
      "[CV] END ...max_depth=3, max_features=sqrt, n_estimators=100; total time=   0.1s\n",
      "[CV] END ...max_depth=3, max_features=sqrt, n_estimators=200; total time=   0.2s\n",
      "[CV] END ...max_depth=3, max_features=sqrt, n_estimators=200; total time=   0.2s\n",
      "[CV] END ...max_depth=3, max_features=sqrt, n_estimators=200; total time=   0.2s\n",
      "[CV] END ...max_depth=3, max_features=sqrt, n_estimators=200; total time=   0.2s\n",
      "[CV] END ...max_depth=3, max_features=sqrt, n_estimators=200; total time=   0.2s\n",
      "[CV] END ...max_depth=3, max_features=sqrt, n_estimators=200; total time=   0.2s\n",
      "[CV] END ...max_depth=3, max_features=sqrt, n_estimators=200; total time=   0.2s\n",
      "[CV] END ...max_depth=3, max_features=sqrt, n_estimators=200; total time=   0.2s\n",
      "[CV] END ...max_depth=3, max_features=sqrt, n_estimators=200; total time=   0.2s\n",
      "[CV] END ...max_depth=3, max_features=log2, n_estimators=100; total time=   0.1s\n",
      "[CV] END ...max_depth=3, max_features=sqrt, n_estimators=200; total time=   0.2s\n",
      "[CV] END ...max_depth=3, max_features=log2, n_estimators=100; total time=   0.1s\n",
      "[CV] END ...max_depth=3, max_features=log2, n_estimators=100; total time=   0.1s\n",
      "[CV] END ...max_depth=3, max_features=log2, n_estimators=100; total time=   0.1s\n",
      "[CV] END ...max_depth=3, max_features=log2, n_estimators=100; total time=   0.1s\n",
      "[CV] END ...max_depth=3, max_features=log2, n_estimators=100; total time=   0.1s\n",
      "[CV] END ...max_depth=3, max_features=log2, n_estimators=100; total time=   0.1s\n",
      "[CV] END ...max_depth=3, max_features=log2, n_estimators=100; total time=   0.1s\n",
      "[CV] END ...max_depth=3, max_features=log2, n_estimators=100; total time=   0.1s\n",
      "[CV] END ...max_depth=3, max_features=log2, n_estimators=100; total time=   0.1s\n",
      "[CV] END ...max_depth=3, max_features=log2, n_estimators=200; total time=   0.2s\n",
      "[CV] END ...max_depth=3, max_features=log2, n_estimators=200; total time=   0.2s\n",
      "[CV] END ...max_depth=3, max_features=log2, n_estimators=200; total time=   0.2s\n",
      "[CV] END ...max_depth=3, max_features=log2, n_estimators=200; total time=   0.2s\n",
      "[CV] END ...max_depth=3, max_features=log2, n_estimators=200; total time=   0.2s\n",
      "[CV] END ...max_depth=3, max_features=log2, n_estimators=200; total time=   0.2s\n",
      "[CV] END ...max_depth=3, max_features=log2, n_estimators=200; total time=   0.2s\n",
      "[CV] END ...max_depth=3, max_features=log2, n_estimators=200; total time=   0.2s\n",
      "[CV] END ...max_depth=3, max_features=log2, n_estimators=200; total time=   0.3s\n",
      "[CV] END ...max_depth=5, max_features=sqrt, n_estimators=100; total time=   0.1s\n",
      "[CV] END ...max_depth=3, max_features=log2, n_estimators=200; total time=   0.3s\n",
      "[CV] END ...max_depth=5, max_features=sqrt, n_estimators=100; total time=   0.1s\n",
      "[CV] END ...max_depth=5, max_features=sqrt, n_estimators=100; total time=   0.1s\n",
      "[CV] END ...max_depth=5, max_features=sqrt, n_estimators=100; total time=   0.1s\n",
      "[CV] END ...max_depth=5, max_features=sqrt, n_estimators=100; total time=   0.1s\n",
      "[CV] END ...max_depth=5, max_features=sqrt, n_estimators=100; total time=   0.1s\n",
      "[CV] END ...max_depth=5, max_features=sqrt, n_estimators=100; total time=   0.1s\n",
      "[CV] END ...max_depth=5, max_features=sqrt, n_estimators=100; total time=   0.1s\n",
      "[CV] END ...max_depth=5, max_features=sqrt, n_estimators=100; total time=   0.1s\n",
      "[CV] END ...max_depth=5, max_features=sqrt, n_estimators=100; total time=   0.1s\n",
      "[CV] END ...max_depth=5, max_features=sqrt, n_estimators=200; total time=   0.2s\n",
      "[CV] END ...max_depth=5, max_features=sqrt, n_estimators=200; total time=   0.2s\n",
      "[CV] END ...max_depth=5, max_features=sqrt, n_estimators=200; total time=   0.2s\n",
      "[CV] END ...max_depth=5, max_features=sqrt, n_estimators=200; total time=   0.2s\n",
      "[CV] END ...max_depth=5, max_features=sqrt, n_estimators=200; total time=   0.2s\n",
      "[CV] END ...max_depth=5, max_features=sqrt, n_estimators=200; total time=   0.2s\n",
      "[CV] END ...max_depth=5, max_features=sqrt, n_estimators=200; total time=   0.2s\n",
      "[CV] END ...max_depth=5, max_features=sqrt, n_estimators=200; total time=   0.2s\n",
      "[CV] END ...max_depth=5, max_features=sqrt, n_estimators=200; total time=   0.2s\n",
      "[CV] END ...max_depth=5, max_features=log2, n_estimators=100; total time=   0.1s\n",
      "[CV] END ...max_depth=5, max_features=sqrt, n_estimators=200; total time=   0.2s\n",
      "[CV] END ...max_depth=5, max_features=log2, n_estimators=100; total time=   0.1s\n",
      "[CV] END ...max_depth=5, max_features=log2, n_estimators=100; total time=   0.1s\n",
      "[CV] END ...max_depth=5, max_features=log2, n_estimators=100; total time=   0.1s\n",
      "[CV] END ...max_depth=5, max_features=log2, n_estimators=100; total time=   0.1s\n",
      "[CV] END ...max_depth=5, max_features=log2, n_estimators=100; total time=   0.1s\n",
      "[CV] END ...max_depth=5, max_features=log2, n_estimators=100; total time=   0.1s\n",
      "[CV] END ...max_depth=5, max_features=log2, n_estimators=100; total time=   0.1s\n",
      "[CV] END ...max_depth=5, max_features=log2, n_estimators=100; total time=   0.1s\n",
      "[CV] END ...max_depth=5, max_features=log2, n_estimators=100; total time=   0.1s\n",
      "[CV] END ...max_depth=5, max_features=log2, n_estimators=200; total time=   0.3s\n",
      "[CV] END ...max_depth=5, max_features=log2, n_estimators=200; total time=   0.3s\n",
      "[CV] END ...max_depth=5, max_features=log2, n_estimators=200; total time=   0.3s\n",
      "[CV] END ...max_depth=5, max_features=log2, n_estimators=200; total time=   0.3s\n",
      "[CV] END ...max_depth=5, max_features=log2, n_estimators=200; total time=   0.2s\n",
      "[CV] END ...max_depth=5, max_features=log2, n_estimators=200; total time=   0.2s\n",
      "[CV] END ...max_depth=5, max_features=log2, n_estimators=200; total time=   0.2s\n",
      "[CV] END ...max_depth=5, max_features=log2, n_estimators=200; total time=   0.2s\n",
      "[CV] END ...max_depth=5, max_features=log2, n_estimators=200; total time=   0.2s\n",
      "[CV] END ..max_depth=10, max_features=sqrt, n_estimators=100; total time=   0.1s\n",
      "[CV] END ...max_depth=5, max_features=log2, n_estimators=200; total time=   0.2s\n",
      "[CV] END ..max_depth=10, max_features=sqrt, n_estimators=100; total time=   0.1s\n",
      "[CV] END ..max_depth=10, max_features=sqrt, n_estimators=100; total time=   0.1s\n",
      "[CV] END ..max_depth=10, max_features=sqrt, n_estimators=100; total time=   0.1s\n",
      "[CV] END ..max_depth=10, max_features=sqrt, n_estimators=100; total time=   0.1s\n",
      "[CV] END ..max_depth=10, max_features=sqrt, n_estimators=100; total time=   0.1s\n",
      "[CV] END ..max_depth=10, max_features=sqrt, n_estimators=100; total time=   0.1s\n",
      "[CV] END ..max_depth=10, max_features=sqrt, n_estimators=100; total time=   0.1s\n",
      "[CV] END ..max_depth=10, max_features=sqrt, n_estimators=100; total time=   0.1s\n",
      "[CV] END ..max_depth=10, max_features=sqrt, n_estimators=100; total time=   0.1s\n",
      "[CV] END ..max_depth=10, max_features=sqrt, n_estimators=200; total time=   0.2s\n",
      "[CV] END ..max_depth=10, max_features=sqrt, n_estimators=200; total time=   0.2s\n",
      "[CV] END ..max_depth=10, max_features=sqrt, n_estimators=200; total time=   0.3s\n",
      "[CV] END ..max_depth=10, max_features=sqrt, n_estimators=200; total time=   0.3s\n",
      "[CV] END ..max_depth=10, max_features=sqrt, n_estimators=200; total time=   0.2s\n",
      "[CV] END ..max_depth=10, max_features=sqrt, n_estimators=200; total time=   0.2s\n",
      "[CV] END ..max_depth=10, max_features=sqrt, n_estimators=200; total time=   0.3s\n",
      "[CV] END ..max_depth=10, max_features=sqrt, n_estimators=200; total time=   0.3s\n",
      "[CV] END ..max_depth=10, max_features=sqrt, n_estimators=200; total time=   0.2s\n",
      "[CV] END ..max_depth=10, max_features=log2, n_estimators=100; total time=   0.1s\n",
      "[CV] END ..max_depth=10, max_features=sqrt, n_estimators=200; total time=   0.2s\n",
      "[CV] END ..max_depth=10, max_features=log2, n_estimators=100; total time=   0.1s\n",
      "[CV] END ..max_depth=10, max_features=log2, n_estimators=100; total time=   0.1s\n",
      "[CV] END ..max_depth=10, max_features=log2, n_estimators=100; total time=   0.1s\n",
      "[CV] END ..max_depth=10, max_features=log2, n_estimators=100; total time=   0.1s\n",
      "[CV] END ..max_depth=10, max_features=log2, n_estimators=100; total time=   0.1s\n",
      "[CV] END ..max_depth=10, max_features=log2, n_estimators=100; total time=   0.1s\n",
      "[CV] END ..max_depth=10, max_features=log2, n_estimators=100; total time=   0.1s\n",
      "[CV] END ..max_depth=10, max_features=log2, n_estimators=100; total time=   0.1s\n",
      "[CV] END ..max_depth=10, max_features=log2, n_estimators=100; total time=   0.1s\n",
      "[CV] END ..max_depth=10, max_features=log2, n_estimators=200; total time=   0.3s\n",
      "[CV] END ..max_depth=10, max_features=log2, n_estimators=200; total time=   0.3s\n",
      "[CV] END ..max_depth=10, max_features=log2, n_estimators=200; total time=   0.3s\n",
      "[CV] END ..max_depth=10, max_features=log2, n_estimators=200; total time=   0.3s\n",
      "[CV] END ..max_depth=10, max_features=log2, n_estimators=200; total time=   0.3s\n",
      "[CV] END ..max_depth=10, max_features=log2, n_estimators=200; total time=   0.3s\n",
      "[CV] END ..max_depth=10, max_features=log2, n_estimators=200; total time=   0.3s\n",
      "[CV] END ..max_depth=10, max_features=log2, n_estimators=200; total time=   0.3s\n",
      "[CV] END ..max_depth=10, max_features=log2, n_estimators=200; total time=   0.3s\n",
      "[CV] END ..max_depth=10, max_features=log2, n_estimators=200; total time=   0.3s\n",
      "Best Parameters: {'max_depth': 10, 'max_features': 'log2', 'n_estimators': 200}\n",
      "Best Parameters: {'max_depth': 10, 'max_features': 'log2', 'n_estimators': 200}\n"
     ]
    }
   ],
   "source": [
    "from sklearn.model_selection import GridSearchCV\n",
    "\n",
    "param_grid = {\n",
    "    'n_estimators': [100, 200],\n",
    "    'max_depth': [3, 5, 10],\n",
    "    'max_features': ['sqrt', 'log2']\n",
    "}\n",
    "\n",
    "grid_search_rf = GridSearchCV(\n",
    "    estimator=RandomForestClassifier(random_state=42),\n",
    "    param_grid=param_grid,\n",
    "    cv=5,\n",
    "    scoring='accuracy',\n",
    "    verbose=2\n",
    ")\n",
    "\n",
    "grid_search_rf.fit(X_train, y_train)\n",
    "\n",
    "print(\"Best Parameters:\", grid_search_rf.best_params_)\n"
   ]
  },
  {
   "cell_type": "code",
   "execution_count": 50,
   "id": "6d7bed05",
   "metadata": {},
   "outputs": [
    {
     "name": "stdout",
     "output_type": "stream",
     "text": [
      "Accuracy: 0.7532467532467533\n",
      "Classification Report:\n",
      "              precision    recall  f1-score   support\n",
      "\n",
      "           0       0.80      0.83      0.81        99\n",
      "           1       0.67      0.62      0.64        55\n",
      "\n",
      "    accuracy                           0.75       154\n",
      "   macro avg       0.73      0.72      0.73       154\n",
      "weighted avg       0.75      0.75      0.75       154\n",
      "\n"
     ]
    }
   ],
   "source": [
    "# Train and evaluate Logistic Regression on diabetes data\n",
    "from sklearn.linear_model import LogisticRegression\n",
    "from sklearn.metrics import accuracy_score, classification_report\n",
    "\n",
    "# Train model\n",
    "logreg = LogisticRegression(max_iter=1000, random_state=42)\n",
    "logreg.fit(X_train, y_train)\n",
    "\n",
    "# Predict\n",
    "y_pred_logreg = logreg.predict(X_test)\n",
    "\n",
    "# Evaluate\n",
    "print('Accuracy:', accuracy_score(y_test, y_pred_logreg))\n",
    "print('Classification Report:')\n",
    "print(classification_report(y_test, y_pred_logreg))"
   ]
  },
  {
   "cell_type": "code",
   "execution_count": 51,
   "id": "cdc16ce6",
   "metadata": {},
   "outputs": [],
   "source": [
    "from sklearn.ensemble import VotingClassifier\n",
    "from sklearn.linear_model import LogisticRegression\n",
    "from sklearn.ensemble import RandomForestClassifier\n",
    "from xgboost import XGBClassifier\n",
    "from sklearn.metrics import accuracy_score, classification_report"
   ]
  },
  {
   "cell_type": "code",
   "execution_count": 52,
   "id": "e37acefd",
   "metadata": {},
   "outputs": [],
   "source": [
    "log_reg = LogisticRegression(max_iter=1000, random_state=42)\n",
    "rf = RandomForestClassifier(n_estimators=100, max_depth=5,  random_state=42)\n",
    "xgb = XGBClassifier(use_label_encoder=False, eval_metric='logloss', random_state=42)\n"
   ]
  },
  {
   "cell_type": "code",
   "execution_count": 53,
   "id": "65040b14",
   "metadata": {},
   "outputs": [],
   "source": [
    "ensemble_model = VotingClassifier(\n",
    "    estimators=[\n",
    "        ('lr', log_reg),\n",
    "        ('rf', rf),\n",
    "        ('xgb', xgb)\n",
    "    ],\n",
    "    voting='hard'  # or 'hard'\n",
    ")"
   ]
  },
  {
   "cell_type": "code",
   "execution_count": 54,
   "id": "aa376368",
   "metadata": {},
   "outputs": [
    {
     "name": "stdout",
     "output_type": "stream",
     "text": [
      "Ensemble Model Accuracy: 0.7532467532467533\n",
      "Ensemble Model Classification Report:\n",
      "              precision    recall  f1-score   support\n",
      "\n",
      "           0       0.80      0.82      0.81        99\n",
      "           1       0.66      0.64      0.65        55\n",
      "\n",
      "    accuracy                           0.75       154\n",
      "   macro avg       0.73      0.73      0.73       154\n",
      "weighted avg       0.75      0.75      0.75       154\n",
      "\n"
     ]
    },
    {
     "name": "stderr",
     "output_type": "stream",
     "text": [
      "/Users/anusreemohanan/.pyenv/versions/3.11.7/lib/python3.11/site-packages/xgboost/training.py:183: UserWarning: [18:33:13] WARNING: /Users/runner/work/xgboost/xgboost/src/learner.cc:738: \n",
      "Parameters: { \"use_label_encoder\" } are not used.\n",
      "\n",
      "  bst.update(dtrain, iteration=i, fobj=obj)\n"
     ]
    }
   ],
   "source": [
    "ensemble_model.fit(X_train, y_train)\n",
    "y_pred = ensemble_model.predict(X_test)\n",
    "print('Ensemble Model Accuracy:', accuracy_score(y_test, y_pred))\n",
    "print('Ensemble Model Classification Report:')\n",
    "print(classification_report(y_test, y_pred))"
   ]
  },
  {
   "cell_type": "code",
   "execution_count": 55,
   "id": "f9a20848",
   "metadata": {},
   "outputs": [
    {
     "name": "stdout",
     "output_type": "stream",
     "text": [
      "Model and scaler saved successfully.\n"
     ]
    }
   ],
   "source": [
    "import pickle\n",
    "\n",
    "# Save the model and scaler as a tuple\n",
    "with open(\"diabetes_risk_model.pkl\", \"wb\") as f:\n",
    "    pickle.dump((scaler, ensemble_model), f)\n",
    "\n",
    "print(\"Model and scaler saved successfully.\")"
   ]
  }
 ],
 "metadata": {
  "kernelspec": {
   "display_name": "3.11.7",
   "language": "python",
   "name": "python3"
  },
  "language_info": {
   "codemirror_mode": {
    "name": "ipython",
    "version": 3
   },
   "file_extension": ".py",
   "mimetype": "text/x-python",
   "name": "python",
   "nbconvert_exporter": "python",
   "pygments_lexer": "ipython3",
   "version": "3.11.7"
  }
 },
 "nbformat": 4,
 "nbformat_minor": 5
}
