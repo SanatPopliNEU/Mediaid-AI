{
 "cells": [
  {
   "cell_type": "code",
   "execution_count": 4,
   "id": "c724410a",
   "metadata": {},
   "outputs": [
    {
     "name": "stdout",
     "output_type": "stream",
     "text": [
      "Requirement already satisfied: scikit-learn in /Users/anusreemohanan/.pyenv/versions/3.11.7/lib/python3.11/site-packages (1.7.1)\n",
      "Requirement already satisfied: pandas in /Users/anusreemohanan/.pyenv/versions/3.11.7/lib/python3.11/site-packages (2.3.1)\n",
      "Requirement already satisfied: numpy>=1.22.0 in /Users/anusreemohanan/.pyenv/versions/3.11.7/lib/python3.11/site-packages (from scikit-learn) (2.2.6)\n",
      "Requirement already satisfied: scipy>=1.8.0 in /Users/anusreemohanan/.pyenv/versions/3.11.7/lib/python3.11/site-packages (from scikit-learn) (1.16.1)\n",
      "Requirement already satisfied: joblib>=1.2.0 in /Users/anusreemohanan/.pyenv/versions/3.11.7/lib/python3.11/site-packages (from scikit-learn) (1.5.1)\n",
      "Requirement already satisfied: threadpoolctl>=3.1.0 in /Users/anusreemohanan/.pyenv/versions/3.11.7/lib/python3.11/site-packages (from scikit-learn) (3.6.0)\n",
      "Requirement already satisfied: numpy>=1.22.0 in /Users/anusreemohanan/.pyenv/versions/3.11.7/lib/python3.11/site-packages (from scikit-learn) (2.2.6)\n",
      "Requirement already satisfied: scipy>=1.8.0 in /Users/anusreemohanan/.pyenv/versions/3.11.7/lib/python3.11/site-packages (from scikit-learn) (1.16.1)\n",
      "Requirement already satisfied: joblib>=1.2.0 in /Users/anusreemohanan/.pyenv/versions/3.11.7/lib/python3.11/site-packages (from scikit-learn) (1.5.1)\n",
      "Requirement already satisfied: threadpoolctl>=3.1.0 in /Users/anusreemohanan/.pyenv/versions/3.11.7/lib/python3.11/site-packages (from scikit-learn) (3.6.0)\n",
      "Requirement already satisfied: python-dateutil>=2.8.2 in /Users/anusreemohanan/.pyenv/versions/3.11.7/lib/python3.11/site-packages (from pandas) (2.9.0.post0)\n",
      "Requirement already satisfied: pytz>=2020.1 in /Users/anusreemohanan/.pyenv/versions/3.11.7/lib/python3.11/site-packages (from pandas) (2025.2)\n",
      "Requirement already satisfied: tzdata>=2022.7 in /Users/anusreemohanan/.pyenv/versions/3.11.7/lib/python3.11/site-packages (from pandas) (2025.2)\n",
      "Requirement already satisfied: six>=1.5 in /Users/anusreemohanan/.pyenv/versions/3.11.7/lib/python3.11/site-packages (from python-dateutil>=2.8.2->pandas) (1.17.0)\n",
      "Requirement already satisfied: python-dateutil>=2.8.2 in /Users/anusreemohanan/.pyenv/versions/3.11.7/lib/python3.11/site-packages (from pandas) (2.9.0.post0)\n",
      "Requirement already satisfied: pytz>=2020.1 in /Users/anusreemohanan/.pyenv/versions/3.11.7/lib/python3.11/site-packages (from pandas) (2025.2)\n",
      "Requirement already satisfied: tzdata>=2022.7 in /Users/anusreemohanan/.pyenv/versions/3.11.7/lib/python3.11/site-packages (from pandas) (2025.2)\n",
      "Requirement already satisfied: six>=1.5 in /Users/anusreemohanan/.pyenv/versions/3.11.7/lib/python3.11/site-packages (from python-dateutil>=2.8.2->pandas) (1.17.0)\n",
      "\n",
      "\u001b[1m[\u001b[0m\u001b[34;49mnotice\u001b[0m\u001b[1;39;49m]\u001b[0m\u001b[39;49m A new release of pip is available: \u001b[0m\u001b[31;49m23.2.1\u001b[0m\u001b[39;49m -> \u001b[0m\u001b[32;49m25.2\u001b[0m\n",
      "\u001b[1m[\u001b[0m\u001b[34;49mnotice\u001b[0m\u001b[1;39;49m]\u001b[0m\u001b[39;49m To update, run: \u001b[0m\u001b[32;49mpip install --upgrade pip\u001b[0m\n",
      "\n",
      "\u001b[1m[\u001b[0m\u001b[34;49mnotice\u001b[0m\u001b[1;39;49m]\u001b[0m\u001b[39;49m A new release of pip is available: \u001b[0m\u001b[31;49m23.2.1\u001b[0m\u001b[39;49m -> \u001b[0m\u001b[32;49m25.2\u001b[0m\n",
      "\u001b[1m[\u001b[0m\u001b[34;49mnotice\u001b[0m\u001b[1;39;49m]\u001b[0m\u001b[39;49m To update, run: \u001b[0m\u001b[32;49mpip install --upgrade pip\u001b[0m\n",
      "Note: you may need to restart the kernel to use updated packages.\n",
      "Note: you may need to restart the kernel to use updated packages.\n"
     ]
    }
   ],
   "source": [
    "%pip install scikit-learn pandas"
   ]
  },
  {
   "cell_type": "code",
   "execution_count": 5,
   "id": "ce701074",
   "metadata": {},
   "outputs": [],
   "source": [
    "# Import required libraries\n",
    "import pandas as pd\n",
    "from sklearn.model_selection import train_test_split\n",
    "from sklearn.preprocessing import StandardScaler, LabelEncoder\n",
    "\n"
   ]
  },
  {
   "cell_type": "code",
   "execution_count": 24,
   "id": "0528005d",
   "metadata": {},
   "outputs": [],
   "source": [
    "# Load the dataset\n",
    "df = pd.read_csv(\"datasets/heart.csv\")"
   ]
  },
  {
   "cell_type": "code",
   "execution_count": 25,
   "id": "db36d3d2",
   "metadata": {},
   "outputs": [],
   "source": [
    "# Encode categorical variables using LabelEncoder\n",
    "categorical_cols = ['Sex', 'ChestPainType', 'RestingECG', 'ExerciseAngina', 'ST_Slope']\n",
    "label_encoders = {}\n"
   ]
  },
  {
   "cell_type": "code",
   "execution_count": 8,
   "id": "4a8a9cce",
   "metadata": {},
   "outputs": [],
   "source": [
    "for col in categorical_cols:\n",
    "    le = LabelEncoder()\n",
    "    df[col] = le.fit_transform(df[col])\n",
    "    label_encoders[col] = le  # Save encoder if you want to reverse or apply on new data\n"
   ]
  },
  {
   "cell_type": "code",
   "execution_count": 9,
   "id": "01435350",
   "metadata": {},
   "outputs": [
    {
     "name": "stdout",
     "output_type": "stream",
     "text": [
      "Encoded dataset head:\n"
     ]
    },
    {
     "data": {
      "text/html": [
       "<div>\n",
       "<style scoped>\n",
       "    .dataframe tbody tr th:only-of-type {\n",
       "        vertical-align: middle;\n",
       "    }\n",
       "\n",
       "    .dataframe tbody tr th {\n",
       "        vertical-align: top;\n",
       "    }\n",
       "\n",
       "    .dataframe thead th {\n",
       "        text-align: right;\n",
       "    }\n",
       "</style>\n",
       "<table border=\"1\" class=\"dataframe\">\n",
       "  <thead>\n",
       "    <tr style=\"text-align: right;\">\n",
       "      <th></th>\n",
       "      <th>Age</th>\n",
       "      <th>Sex</th>\n",
       "      <th>ChestPainType</th>\n",
       "      <th>RestingBP</th>\n",
       "      <th>Cholesterol</th>\n",
       "      <th>FastingBS</th>\n",
       "      <th>RestingECG</th>\n",
       "      <th>MaxHR</th>\n",
       "      <th>ExerciseAngina</th>\n",
       "      <th>Oldpeak</th>\n",
       "      <th>ST_Slope</th>\n",
       "      <th>HeartDisease</th>\n",
       "    </tr>\n",
       "  </thead>\n",
       "  <tbody>\n",
       "    <tr>\n",
       "      <th>0</th>\n",
       "      <td>40</td>\n",
       "      <td>1</td>\n",
       "      <td>1</td>\n",
       "      <td>140</td>\n",
       "      <td>289</td>\n",
       "      <td>0</td>\n",
       "      <td>1</td>\n",
       "      <td>172</td>\n",
       "      <td>0</td>\n",
       "      <td>0.0</td>\n",
       "      <td>2</td>\n",
       "      <td>0</td>\n",
       "    </tr>\n",
       "    <tr>\n",
       "      <th>1</th>\n",
       "      <td>49</td>\n",
       "      <td>0</td>\n",
       "      <td>2</td>\n",
       "      <td>160</td>\n",
       "      <td>180</td>\n",
       "      <td>0</td>\n",
       "      <td>1</td>\n",
       "      <td>156</td>\n",
       "      <td>0</td>\n",
       "      <td>1.0</td>\n",
       "      <td>1</td>\n",
       "      <td>1</td>\n",
       "    </tr>\n",
       "    <tr>\n",
       "      <th>2</th>\n",
       "      <td>37</td>\n",
       "      <td>1</td>\n",
       "      <td>1</td>\n",
       "      <td>130</td>\n",
       "      <td>283</td>\n",
       "      <td>0</td>\n",
       "      <td>2</td>\n",
       "      <td>98</td>\n",
       "      <td>0</td>\n",
       "      <td>0.0</td>\n",
       "      <td>2</td>\n",
       "      <td>0</td>\n",
       "    </tr>\n",
       "    <tr>\n",
       "      <th>3</th>\n",
       "      <td>48</td>\n",
       "      <td>0</td>\n",
       "      <td>0</td>\n",
       "      <td>138</td>\n",
       "      <td>214</td>\n",
       "      <td>0</td>\n",
       "      <td>1</td>\n",
       "      <td>108</td>\n",
       "      <td>1</td>\n",
       "      <td>1.5</td>\n",
       "      <td>1</td>\n",
       "      <td>1</td>\n",
       "    </tr>\n",
       "    <tr>\n",
       "      <th>4</th>\n",
       "      <td>54</td>\n",
       "      <td>1</td>\n",
       "      <td>2</td>\n",
       "      <td>150</td>\n",
       "      <td>195</td>\n",
       "      <td>0</td>\n",
       "      <td>1</td>\n",
       "      <td>122</td>\n",
       "      <td>0</td>\n",
       "      <td>0.0</td>\n",
       "      <td>2</td>\n",
       "      <td>0</td>\n",
       "    </tr>\n",
       "  </tbody>\n",
       "</table>\n",
       "</div>"
      ],
      "text/plain": [
       "   Age  Sex  ChestPainType  RestingBP  Cholesterol  FastingBS  RestingECG  \\\n",
       "0   40    1              1        140          289          0           1   \n",
       "1   49    0              2        160          180          0           1   \n",
       "2   37    1              1        130          283          0           2   \n",
       "3   48    0              0        138          214          0           1   \n",
       "4   54    1              2        150          195          0           1   \n",
       "\n",
       "   MaxHR  ExerciseAngina  Oldpeak  ST_Slope  HeartDisease  \n",
       "0    172               0      0.0         2             0  \n",
       "1    156               0      1.0         1             1  \n",
       "2     98               0      0.0         2             0  \n",
       "3    108               1      1.5         1             1  \n",
       "4    122               0      0.0         2             0  "
      ]
     },
     "metadata": {},
     "output_type": "display_data"
    }
   ],
   "source": [
    "# Check the transformed dataset\n",
    "print(\"Encoded dataset head:\")\n",
    "display(df.head())\n"
   ]
  },
  {
   "cell_type": "code",
   "execution_count": 10,
   "id": "563f8f27",
   "metadata": {},
   "outputs": [],
   "source": [
    "# Optional: Normalize numeric features\n",
    "features_to_scale = ['Age', 'RestingBP', 'Cholesterol', 'MaxHR', 'Oldpeak']\n",
    "scaler = StandardScaler()\n",
    "df[features_to_scale] = scaler.fit_transform(df[features_to_scale])\n"
   ]
  },
  {
   "cell_type": "code",
   "execution_count": 11,
   "id": "8880b44a",
   "metadata": {},
   "outputs": [],
   "source": [
    "# Split into X and y\n",
    "X = df.drop('HeartDisease', axis=1)\n",
    "y = df['HeartDisease']\n"
   ]
  },
  {
   "cell_type": "code",
   "execution_count": 12,
   "id": "4457943f",
   "metadata": {},
   "outputs": [],
   "source": [
    "# Split into train and test sets\n",
    "X_train, X_test, y_train, y_test = train_test_split(X, y, test_size=0.2, random_state=42)"
   ]
  },
  {
   "cell_type": "code",
   "execution_count": 13,
   "id": "18a07a3a",
   "metadata": {},
   "outputs": [],
   "source": [
    "# 💾 Save processed datasets (optional)\n",
    "X_train.to_csv(\"datasets/X_train.csv\", index=False)\n",
    "X_test.to_csv(\"datasets/X_test.csv\", index=False)\n",
    "y_train.to_csv(\"datasets/y_train.csv\", index=False)\n",
    "y_test.to_csv(\"datasets/y_test.csv\", index=False)"
   ]
  },
  {
   "cell_type": "code",
   "execution_count": 14,
   "id": "599cfcc1",
   "metadata": {},
   "outputs": [
    {
     "name": "stdout",
     "output_type": "stream",
     "text": [
      "Data preparation complete.\n"
     ]
    }
   ],
   "source": [
    "print(\"Data preparation complete.\")"
   ]
  },
  {
   "cell_type": "code",
   "execution_count": 15,
   "id": "12381bcf",
   "metadata": {},
   "outputs": [
    {
     "name": "stdout",
     "output_type": "stream",
     "text": [
      "Requirement already satisfied: xgboost in /Users/anusreemohanan/.pyenv/versions/3.11.7/lib/python3.11/site-packages (3.0.3)\n",
      "Requirement already satisfied: numpy in /Users/anusreemohanan/.pyenv/versions/3.11.7/lib/python3.11/site-packages (from xgboost) (2.2.6)\n",
      "Requirement already satisfied: scipy in /Users/anusreemohanan/.pyenv/versions/3.11.7/lib/python3.11/site-packages (from xgboost) (1.16.1)\n",
      "\n",
      "\u001b[1m[\u001b[0m\u001b[34;49mnotice\u001b[0m\u001b[1;39;49m]\u001b[0m\u001b[39;49m A new release of pip is available: \u001b[0m\u001b[31;49m23.2.1\u001b[0m\u001b[39;49m -> \u001b[0m\u001b[32;49m25.2\u001b[0m\n",
      "\u001b[1m[\u001b[0m\u001b[34;49mnotice\u001b[0m\u001b[1;39;49m]\u001b[0m\u001b[39;49m To update, run: \u001b[0m\u001b[32;49mpip install --upgrade pip\u001b[0m\n",
      "\n",
      "\u001b[1m[\u001b[0m\u001b[34;49mnotice\u001b[0m\u001b[1;39;49m]\u001b[0m\u001b[39;49m A new release of pip is available: \u001b[0m\u001b[31;49m23.2.1\u001b[0m\u001b[39;49m -> \u001b[0m\u001b[32;49m25.2\u001b[0m\n",
      "\u001b[1m[\u001b[0m\u001b[34;49mnotice\u001b[0m\u001b[1;39;49m]\u001b[0m\u001b[39;49m To update, run: \u001b[0m\u001b[32;49mpip install --upgrade pip\u001b[0m\n",
      "Note: you may need to restart the kernel to use updated packages.\n",
      "Note: you may need to restart the kernel to use updated packages.\n"
     ]
    }
   ],
   "source": [
    "%pip install xgboost"
   ]
  },
  {
   "cell_type": "code",
   "execution_count": null,
   "id": "e384cd80",
   "metadata": {},
   "outputs": [
    {
     "name": "stdout",
     "output_type": "stream",
     "text": [
      "✅ Accuracy: 0.875\n",
      "📊 Classification Report:\n",
      "               precision    recall  f1-score   support\n",
      "\n",
      "           0       0.85      0.86      0.85        77\n",
      "           1       0.90      0.89      0.89       107\n",
      "\n",
      "    accuracy                           0.88       184\n",
      "   macro avg       0.87      0.87      0.87       184\n",
      "weighted avg       0.88      0.88      0.88       184\n",
      "\n"
     ]
    }
   ],
   "source": [
    "from sklearn.ensemble import RandomForestClassifier\n",
    "from sklearn.metrics import accuracy_score, classification_report\n",
    "\n",
    "# Initialize and train Random Forest\n",
    "rf = RandomForestClassifier(\n",
    "    n_estimators=100,      # Number of trees\n",
    "    max_depth=5,           # Try tuning this\n",
    "    random_state=42\n",
    ")\n",
    "rf.fit(X_train, y_train)\n",
    "\n",
    "# Predict\n",
    "y_pred_rf = rf.predict(X_test)\n",
    "\n",
    "# Evaluate\n",
    "print(\"Accuracy:\", accuracy_score(y_test, y_pred_rf))\n",
    "print(\"Classification Report:\\n\", classification_report(y_test, y_pred_rf))\n"
   ]
  },
  {
   "cell_type": "code",
   "execution_count": null,
   "id": "693e09fd",
   "metadata": {},
   "outputs": [
    {
     "name": "stdout",
     "output_type": "stream",
     "text": [
      "Fitting 5 folds for each of 12 candidates, totalling 60 fits\n",
      "[CV] END ...max_depth=3, max_features=sqrt, n_estimators=100; total time=   0.1s\n",
      "[CV] END ...max_depth=3, max_features=sqrt, n_estimators=100; total time=   0.1s\n",
      "[CV] END ...max_depth=3, max_features=sqrt, n_estimators=100; total time=   0.1s\n",
      "[CV] END ...max_depth=3, max_features=sqrt, n_estimators=100; total time=   0.1s\n",
      "[CV] END ...max_depth=3, max_features=sqrt, n_estimators=100; total time=   0.1s\n",
      "[CV] END ...max_depth=3, max_features=sqrt, n_estimators=100; total time=   0.1s\n",
      "[CV] END ...max_depth=3, max_features=sqrt, n_estimators=100; total time=   0.1s\n",
      "[CV] END ...max_depth=3, max_features=sqrt, n_estimators=100; total time=   0.1s\n",
      "[CV] END ...max_depth=3, max_features=sqrt, n_estimators=200; total time=   0.2s\n",
      "[CV] END ...max_depth=3, max_features=sqrt, n_estimators=100; total time=   0.1s\n",
      "[CV] END ...max_depth=3, max_features=sqrt, n_estimators=200; total time=   0.2s\n",
      "[CV] END ...max_depth=3, max_features=sqrt, n_estimators=200; total time=   0.2s\n",
      "[CV] END ...max_depth=3, max_features=sqrt, n_estimators=200; total time=   0.2s\n",
      "[CV] END ...max_depth=3, max_features=sqrt, n_estimators=200; total time=   0.2s\n",
      "[CV] END ...max_depth=3, max_features=sqrt, n_estimators=200; total time=   0.2s\n",
      "[CV] END ...max_depth=3, max_features=sqrt, n_estimators=200; total time=   0.2s\n",
      "[CV] END ...max_depth=3, max_features=sqrt, n_estimators=200; total time=   0.2s\n",
      "[CV] END ...max_depth=3, max_features=sqrt, n_estimators=200; total time=   0.2s\n",
      "[CV] END ...max_depth=3, max_features=sqrt, n_estimators=200; total time=   0.2s\n",
      "[CV] END ...max_depth=3, max_features=log2, n_estimators=100; total time=   0.1s\n",
      "[CV] END ...max_depth=3, max_features=log2, n_estimators=100; total time=   0.1s\n",
      "[CV] END ...max_depth=3, max_features=log2, n_estimators=100; total time=   0.1s\n",
      "[CV] END ...max_depth=3, max_features=log2, n_estimators=100; total time=   0.1s\n",
      "[CV] END ...max_depth=3, max_features=log2, n_estimators=100; total time=   0.1s\n",
      "[CV] END ...max_depth=3, max_features=log2, n_estimators=100; total time=   0.1s\n",
      "[CV] END ...max_depth=3, max_features=log2, n_estimators=100; total time=   0.1s\n",
      "[CV] END ...max_depth=3, max_features=log2, n_estimators=100; total time=   0.1s\n",
      "[CV] END ...max_depth=3, max_features=log2, n_estimators=100; total time=   0.1s\n",
      "[CV] END ...max_depth=3, max_features=log2, n_estimators=100; total time=   0.1s\n",
      "[CV] END ...max_depth=3, max_features=log2, n_estimators=200; total time=   0.2s\n",
      "[CV] END ...max_depth=3, max_features=log2, n_estimators=200; total time=   0.2s\n",
      "[CV] END ...max_depth=3, max_features=log2, n_estimators=200; total time=   0.2s\n",
      "[CV] END ...max_depth=3, max_features=log2, n_estimators=200; total time=   0.2s\n",
      "[CV] END ...max_depth=3, max_features=log2, n_estimators=200; total time=   0.2s\n",
      "[CV] END ...max_depth=3, max_features=log2, n_estimators=200; total time=   0.2s\n",
      "[CV] END ...max_depth=3, max_features=log2, n_estimators=200; total time=   0.2s\n",
      "[CV] END ...max_depth=3, max_features=log2, n_estimators=200; total time=   0.2s\n",
      "[CV] END ...max_depth=3, max_features=log2, n_estimators=200; total time=   0.5s\n",
      "[CV] END ...max_depth=5, max_features=sqrt, n_estimators=100; total time=   0.1s\n",
      "[CV] END ...max_depth=3, max_features=log2, n_estimators=200; total time=   0.5s\n",
      "[CV] END ...max_depth=5, max_features=sqrt, n_estimators=100; total time=   0.1s\n",
      "[CV] END ...max_depth=5, max_features=sqrt, n_estimators=100; total time=   0.1s\n",
      "[CV] END ...max_depth=5, max_features=sqrt, n_estimators=100; total time=   0.1s\n",
      "[CV] END ...max_depth=5, max_features=sqrt, n_estimators=100; total time=   0.1s\n",
      "[CV] END ...max_depth=5, max_features=sqrt, n_estimators=100; total time=   0.1s\n",
      "[CV] END ...max_depth=5, max_features=sqrt, n_estimators=100; total time=   0.1s\n",
      "[CV] END ...max_depth=5, max_features=sqrt, n_estimators=100; total time=   0.1s\n",
      "[CV] END ...max_depth=5, max_features=sqrt, n_estimators=100; total time=   0.1s\n",
      "[CV] END ...max_depth=5, max_features=sqrt, n_estimators=100; total time=   0.1s\n",
      "[CV] END ...max_depth=5, max_features=sqrt, n_estimators=200; total time=   0.2s\n",
      "[CV] END ...max_depth=5, max_features=sqrt, n_estimators=200; total time=   0.2s\n",
      "[CV] END ...max_depth=5, max_features=sqrt, n_estimators=200; total time=   0.2s\n",
      "[CV] END ...max_depth=5, max_features=sqrt, n_estimators=200; total time=   0.2s\n",
      "[CV] END ...max_depth=5, max_features=sqrt, n_estimators=200; total time=   0.2s\n",
      "[CV] END ...max_depth=5, max_features=sqrt, n_estimators=200; total time=   0.2s\n",
      "[CV] END ...max_depth=5, max_features=sqrt, n_estimators=200; total time=   0.2s\n",
      "[CV] END ...max_depth=5, max_features=sqrt, n_estimators=200; total time=   0.2s\n",
      "[CV] END ...max_depth=5, max_features=sqrt, n_estimators=200; total time=   0.2s\n",
      "[CV] END ...max_depth=5, max_features=log2, n_estimators=100; total time=   0.1s\n",
      "[CV] END ...max_depth=5, max_features=sqrt, n_estimators=200; total time=   0.2s\n",
      "[CV] END ...max_depth=5, max_features=log2, n_estimators=100; total time=   0.1s\n",
      "[CV] END ...max_depth=5, max_features=log2, n_estimators=100; total time=   0.1s\n",
      "[CV] END ...max_depth=5, max_features=log2, n_estimators=100; total time=   0.1s\n",
      "[CV] END ...max_depth=5, max_features=log2, n_estimators=100; total time=   0.1s\n",
      "[CV] END ...max_depth=5, max_features=log2, n_estimators=100; total time=   0.1s\n",
      "[CV] END ...max_depth=5, max_features=log2, n_estimators=100; total time=   0.1s\n",
      "[CV] END ...max_depth=5, max_features=log2, n_estimators=100; total time=   0.1s\n",
      "[CV] END ...max_depth=5, max_features=log2, n_estimators=100; total time=   0.1s\n",
      "[CV] END ...max_depth=5, max_features=log2, n_estimators=100; total time=   0.1s\n",
      "[CV] END ...max_depth=5, max_features=log2, n_estimators=200; total time=   0.2s\n",
      "[CV] END ...max_depth=5, max_features=log2, n_estimators=200; total time=   0.2s\n",
      "[CV] END ...max_depth=5, max_features=log2, n_estimators=200; total time=   0.2s\n",
      "[CV] END ...max_depth=5, max_features=log2, n_estimators=200; total time=   0.2s\n",
      "[CV] END ...max_depth=5, max_features=log2, n_estimators=200; total time=   0.2s\n",
      "[CV] END ...max_depth=5, max_features=log2, n_estimators=200; total time=   0.2s\n",
      "[CV] END ...max_depth=5, max_features=log2, n_estimators=200; total time=   0.2s\n",
      "[CV] END ...max_depth=5, max_features=log2, n_estimators=200; total time=   0.2s\n",
      "[CV] END ...max_depth=5, max_features=log2, n_estimators=200; total time=   0.2s\n",
      "[CV] END ..max_depth=10, max_features=sqrt, n_estimators=100; total time=   0.1s\n",
      "[CV] END ...max_depth=5, max_features=log2, n_estimators=200; total time=   0.2s\n",
      "[CV] END ..max_depth=10, max_features=sqrt, n_estimators=100; total time=   0.1s\n",
      "[CV] END ..max_depth=10, max_features=sqrt, n_estimators=100; total time=   0.1s\n",
      "[CV] END ..max_depth=10, max_features=sqrt, n_estimators=100; total time=   0.1s\n",
      "[CV] END ..max_depth=10, max_features=sqrt, n_estimators=100; total time=   0.1s\n",
      "[CV] END ..max_depth=10, max_features=sqrt, n_estimators=100; total time=   0.1s\n",
      "[CV] END ..max_depth=10, max_features=sqrt, n_estimators=100; total time=   0.1s\n",
      "[CV] END ..max_depth=10, max_features=sqrt, n_estimators=100; total time=   0.1s\n",
      "[CV] END ..max_depth=10, max_features=sqrt, n_estimators=100; total time=   0.1s\n",
      "[CV] END ..max_depth=10, max_features=sqrt, n_estimators=100; total time=   0.1s\n",
      "[CV] END ..max_depth=10, max_features=sqrt, n_estimators=200; total time=   0.2s\n",
      "[CV] END ..max_depth=10, max_features=sqrt, n_estimators=200; total time=   0.2s\n",
      "[CV] END ..max_depth=10, max_features=sqrt, n_estimators=200; total time=   0.3s\n",
      "[CV] END ..max_depth=10, max_features=sqrt, n_estimators=200; total time=   0.3s\n",
      "[CV] END ..max_depth=10, max_features=sqrt, n_estimators=200; total time=   0.3s\n",
      "[CV] END ..max_depth=10, max_features=sqrt, n_estimators=200; total time=   0.3s\n",
      "[CV] END ..max_depth=10, max_features=sqrt, n_estimators=200; total time=   0.2s\n",
      "[CV] END ..max_depth=10, max_features=sqrt, n_estimators=200; total time=   0.2s\n",
      "[CV] END ..max_depth=10, max_features=sqrt, n_estimators=200; total time=   0.2s\n",
      "[CV] END ..max_depth=10, max_features=log2, n_estimators=100; total time=   0.1s\n",
      "[CV] END ..max_depth=10, max_features=sqrt, n_estimators=200; total time=   0.2s\n",
      "[CV] END ..max_depth=10, max_features=log2, n_estimators=100; total time=   0.1s\n",
      "[CV] END ..max_depth=10, max_features=log2, n_estimators=100; total time=   0.1s\n",
      "[CV] END ..max_depth=10, max_features=log2, n_estimators=100; total time=   0.1s\n",
      "[CV] END ..max_depth=10, max_features=log2, n_estimators=100; total time=   0.1s\n",
      "[CV] END ..max_depth=10, max_features=log2, n_estimators=100; total time=   0.1s\n",
      "[CV] END ..max_depth=10, max_features=log2, n_estimators=100; total time=   0.1s\n",
      "[CV] END ..max_depth=10, max_features=log2, n_estimators=100; total time=   0.2s\n",
      "[CV] END ..max_depth=10, max_features=log2, n_estimators=100; total time=   0.1s\n",
      "[CV] END ..max_depth=10, max_features=log2, n_estimators=100; total time=   0.2s\n",
      "[CV] END ..max_depth=10, max_features=log2, n_estimators=200; total time=   0.2s\n",
      "[CV] END ..max_depth=10, max_features=log2, n_estimators=200; total time=   0.2s\n",
      "[CV] END ..max_depth=10, max_features=log2, n_estimators=200; total time=   0.2s\n",
      "[CV] END ..max_depth=10, max_features=log2, n_estimators=200; total time=   0.2s\n",
      "[CV] END ..max_depth=10, max_features=log2, n_estimators=200; total time=   0.2s\n",
      "[CV] END ..max_depth=10, max_features=log2, n_estimators=200; total time=   0.2s\n",
      "[CV] END ..max_depth=10, max_features=log2, n_estimators=200; total time=   0.2s\n",
      "[CV] END ..max_depth=10, max_features=log2, n_estimators=200; total time=   0.2s\n",
      "[CV] END ..max_depth=10, max_features=log2, n_estimators=200; total time=   0.2s\n",
      "Best Parameters: {'max_depth': 5, 'max_features': 'sqrt', 'n_estimators': 100}\n",
      "[CV] END ..max_depth=10, max_features=log2, n_estimators=200; total time=   0.2s\n",
      "Best Parameters: {'max_depth': 5, 'max_features': 'sqrt', 'n_estimators': 100}\n"
     ]
    }
   ],
   "source": [
    "from sklearn.model_selection import GridSearchCV\n",
    "\n",
    "param_grid = {\n",
    "    'n_estimators': [100, 200],\n",
    "    'max_depth': [3, 5, 10],\n",
    "    'max_features': ['sqrt', 'log2']\n",
    "}\n",
    "\n",
    "grid_search_rf = GridSearchCV(\n",
    "    estimator=RandomForestClassifier(random_state=42),\n",
    "    param_grid=param_grid,\n",
    "    cv=5,\n",
    "    scoring='accuracy',\n",
    "    verbose=2\n",
    ")\n",
    "\n",
    "grid_search_rf.fit(X_train, y_train)\n",
    "\n",
    "print(\"Best Parameters:\", grid_search_rf.best_params_)\n",
    "rf_final = RandomForestClassifier(\n",
    "    n_estimators=200,\n",
    "    max_depth=5,\n",
    "    max_features='sqrt',\n",
    "    random_state=42\n",
    ")\n",
    "rf_final.fit(X_train, y_train)\n",
    "y_pred_rf_final = rf_final.predict(X_test)\n"
   ]
  },
  {
   "cell_type": "code",
   "execution_count": null,
   "id": "1c85426b",
   "metadata": {},
   "outputs": [
    {
     "name": "stdout",
     "output_type": "stream",
     "text": [
      "✅ Accuracy: 0.875\n",
      "📊 Classification Report:\n",
      "               precision    recall  f1-score   support\n",
      "\n",
      "           0       0.85      0.86      0.85        77\n",
      "           1       0.90      0.89      0.89       107\n",
      "\n",
      "    accuracy                           0.88       184\n",
      "   macro avg       0.87      0.87      0.87       184\n",
      "weighted avg       0.88      0.88      0.88       184\n",
      "\n"
     ]
    }
   ],
   "source": [
    "from sklearn.ensemble import RandomForestClassifier\n",
    "from sklearn.metrics import accuracy_score, classification_report\n",
    "\n",
    "# Instantiate the model with best parameters\n",
    "rf_best = RandomForestClassifier(\n",
    "    max_depth=5,\n",
    "    max_features='sqrt',\n",
    "    n_estimators=100,\n",
    "    random_state=42\n",
    ")\n",
    "\n",
    "# Train the model\n",
    "rf_best.fit(X_train, y_train)\n",
    "\n",
    "# Predict on test set\n",
    "y_pred = rf_best.predict(X_test)\n",
    "\n",
    "# Evaluate the performance\n",
    "print(\"Accuracy:\", accuracy_score(y_test, y_pred))\n",
    "print(\"Classification Report:\\n\", classification_report(y_test, y_pred))\n"
   ]
  },
  {
   "cell_type": "code",
   "execution_count": 26,
   "id": "61c51c8d",
   "metadata": {},
   "outputs": [],
   "source": [
    "import pickle\n",
    "\n",
    "# Save the best model and scaler together\n",
    "with open(\"heart_disease_rf_best_model.pkl\", \"wb\") as f:\n",
    "    pickle.dump((scaler, rf_best), f)"
   ]
  }
 ],
 "metadata": {
  "kernelspec": {
   "display_name": "3.11.7",
   "language": "python",
   "name": "python3"
  },
  "language_info": {
   "codemirror_mode": {
    "name": "ipython",
    "version": 3
   },
   "file_extension": ".py",
   "mimetype": "text/x-python",
   "name": "python",
   "nbconvert_exporter": "python",
   "pygments_lexer": "ipython3",
   "version": "3.11.7"
  }
 },
 "nbformat": 4,
 "nbformat_minor": 5
}
