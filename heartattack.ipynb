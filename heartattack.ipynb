{
 "cells": [
  {
   "cell_type": "code",
   "execution_count": 2,
   "id": "c724410a",
   "metadata": {},
   "outputs": [
    {
     "name": "stdout",
     "output_type": "stream",
     "text": [
      "Collecting scikit-learn\n",
      "  Using cached scikit_learn-1.7.0-cp311-cp311-win_amd64.whl.metadata (14 kB)\n",
      "Requirement already satisfied: numpy>=1.22.0 in c:\\users\\popli\\appdata\\local\\packages\\pythonsoftwarefoundation.python.3.11_qbz5n2kfra8p0\\localcache\\local-packages\\python311\\site-packages (from scikit-learn) (2.2.6)\n",
      "Collecting scipy>=1.8.0 (from scikit-learn)\n",
      "  Downloading scipy-1.16.0-cp311-cp311-win_amd64.whl.metadata (60 kB)\n",
      "     ---------------------------------------- 0.0/60.8 kB ? eta -:--:--\n",
      "     ------ --------------------------------- 10.2/60.8 kB ? eta -:--:--\n",
      "     ------------------- ------------------ 30.7/60.8 kB 325.1 kB/s eta 0:00:01\n",
      "     -------------------------------- ----- 51.2/60.8 kB 435.7 kB/s eta 0:00:01\n",
      "     -------------------------------------- 60.8/60.8 kB 404.1 kB/s eta 0:00:00\n",
      "Collecting joblib>=1.2.0 (from scikit-learn)\n",
      "  Using cached joblib-1.5.1-py3-none-any.whl.metadata (5.6 kB)\n",
      "Collecting threadpoolctl>=3.1.0 (from scikit-learn)\n",
      "  Using cached threadpoolctl-3.6.0-py3-none-any.whl.metadata (13 kB)\n",
      "Using cached scikit_learn-1.7.0-cp311-cp311-win_amd64.whl (10.7 MB)\n",
      "Using cached joblib-1.5.1-py3-none-any.whl (307 kB)\n",
      "Downloading scipy-1.16.0-cp311-cp311-win_amd64.whl (38.6 MB)\n",
      "   ---------------------------------------- 0.0/38.6 MB ? eta -:--:--\n",
      "   ---------------------------------------- 0.3/38.6 MB 7.9 MB/s eta 0:00:05\n",
      "   - -------------------------------------- 1.2/38.6 MB 15.2 MB/s eta 0:00:03\n",
      "   -- ------------------------------------- 2.0/38.6 MB 16.1 MB/s eta 0:00:03\n",
      "   -- ------------------------------------- 2.8/38.6 MB 16.5 MB/s eta 0:00:03\n",
      "   --- ------------------------------------ 3.7/38.6 MB 17.0 MB/s eta 0:00:03\n",
      "   ---- ----------------------------------- 4.5/38.6 MB 17.1 MB/s eta 0:00:02\n",
      "   ----- ---------------------------------- 5.4/38.6 MB 17.4 MB/s eta 0:00:02\n",
      "   ------ --------------------------------- 6.5/38.6 MB 18.0 MB/s eta 0:00:02\n",
      "   ------- -------------------------------- 7.5/38.6 MB 18.5 MB/s eta 0:00:02\n",
      "   -------- ------------------------------- 8.6/38.6 MB 19.1 MB/s eta 0:00:02\n",
      "   --------- ------------------------------ 9.5/38.6 MB 18.9 MB/s eta 0:00:02\n",
      "   ---------- ----------------------------- 10.5/38.6 MB 20.5 MB/s eta 0:00:02\n",
      "   ------------ --------------------------- 11.6/38.6 MB 20.5 MB/s eta 0:00:02\n",
      "   ------------- -------------------------- 12.6/38.6 MB 21.1 MB/s eta 0:00:02\n",
      "   -------------- ------------------------- 13.7/38.6 MB 21.1 MB/s eta 0:00:02\n",
      "   -------------- ------------------------- 14.4/38.6 MB 21.1 MB/s eta 0:00:02\n",
      "   --------------- ------------------------ 15.4/38.6 MB 21.1 MB/s eta 0:00:02\n",
      "   ---------------- ----------------------- 16.3/38.6 MB 21.8 MB/s eta 0:00:02\n",
      "   ------------------ --------------------- 17.4/38.6 MB 21.1 MB/s eta 0:00:02\n",
      "   ------------------ --------------------- 18.1/38.6 MB 21.1 MB/s eta 0:00:01\n",
      "   ------------------- -------------------- 19.1/38.6 MB 21.1 MB/s eta 0:00:01\n",
      "   -------------------- ------------------- 20.2/38.6 MB 21.1 MB/s eta 0:00:01\n",
      "   --------------------- ------------------ 21.1/38.6 MB 21.1 MB/s eta 0:00:01\n",
      "   ---------------------- ----------------- 22.2/38.6 MB 21.1 MB/s eta 0:00:01\n",
      "   ------------------------ --------------- 23.2/38.6 MB 21.1 MB/s eta 0:00:01\n",
      "   ------------------------- -------------- 24.2/38.6 MB 21.1 MB/s eta 0:00:01\n",
      "   -------------------------- ------------- 25.2/38.6 MB 21.1 MB/s eta 0:00:01\n",
      "   --------------------------- ------------ 26.2/38.6 MB 21.8 MB/s eta 0:00:01\n",
      "   ---------------------------- ----------- 27.4/38.6 MB 21.8 MB/s eta 0:00:01\n",
      "   ----------------------------- ---------- 28.5/38.6 MB 22.5 MB/s eta 0:00:01\n",
      "   ------------------------------ --------- 29.4/38.6 MB 22.6 MB/s eta 0:00:01\n",
      "   ------------------------------- -------- 30.3/38.6 MB 21.9 MB/s eta 0:00:01\n",
      "   -------------------------------- ------- 31.2/38.6 MB 21.8 MB/s eta 0:00:01\n",
      "   --------------------------------- ------ 32.0/38.6 MB 21.1 MB/s eta 0:00:01\n",
      "   ---------------------------------- ----- 33.0/38.6 MB 21.1 MB/s eta 0:00:01\n",
      "   ----------------------------------- ---- 33.8/38.6 MB 20.5 MB/s eta 0:00:01\n",
      "   ------------------------------------ --- 34.8/38.6 MB 20.5 MB/s eta 0:00:01\n",
      "   ------------------------------------- -- 35.8/38.6 MB 20.5 MB/s eta 0:00:01\n",
      "   -------------------------------------- - 36.8/38.6 MB 20.5 MB/s eta 0:00:01\n",
      "   ---------------------------------------  37.6/38.6 MB 19.9 MB/s eta 0:00:01\n",
      "   ---------------------------------------  38.5/38.6 MB 19.3 MB/s eta 0:00:01\n",
      "   ---------------------------------------  38.6/38.6 MB 19.9 MB/s eta 0:00:01\n",
      "   ---------------------------------------  38.6/38.6 MB 19.9 MB/s eta 0:00:01\n",
      "   ---------------------------------------- 38.6/38.6 MB 16.8 MB/s eta 0:00:00\n",
      "Using cached threadpoolctl-3.6.0-py3-none-any.whl (18 kB)\n",
      "Installing collected packages: threadpoolctl, scipy, joblib, scikit-learn\n",
      "Successfully installed joblib-1.5.1 scikit-learn-1.7.0 scipy-1.16.0 threadpoolctl-3.6.0\n"
     ]
    },
    {
     "name": "stderr",
     "output_type": "stream",
     "text": [
      "\n",
      "[notice] A new release of pip is available: 24.0 -> 25.1.1\n",
      "[notice] To update, run: C:\\Users\\popli\\AppData\\Local\\Microsoft\\WindowsApps\\PythonSoftwareFoundation.Python.3.11_qbz5n2kfra8p0\\python.exe -m pip install --upgrade pip\n"
     ]
    }
   ],
   "source": [
    "!pip install scikit-learn\n"
   ]
  },
  {
   "cell_type": "code",
   "execution_count": 3,
   "id": "ce701074",
   "metadata": {},
   "outputs": [],
   "source": [
    "# 📦 Import required libraries\n",
    "import pandas as pd\n",
    "from sklearn.model_selection import train_test_split\n",
    "from sklearn.preprocessing import StandardScaler, LabelEncoder\n",
    "\n"
   ]
  },
  {
   "cell_type": "code",
   "execution_count": 4,
   "id": "0528005d",
   "metadata": {},
   "outputs": [],
   "source": [
    "# 📥 Load the dataset\n",
    "df = pd.read_csv(\"C:\\\\Users\\\\popli\\\\Downloads\\\\heart.csv\")"
   ]
  },
  {
   "cell_type": "code",
   "execution_count": 5,
   "id": "db36d3d2",
   "metadata": {},
   "outputs": [],
   "source": [
    "# ✅ Encode categorical variables using LabelEncoder\n",
    "categorical_cols = ['Sex', 'ChestPainType', 'RestingECG', 'ExerciseAngina', 'ST_Slope']\n",
    "label_encoders = {}\n"
   ]
  },
  {
   "cell_type": "code",
   "execution_count": 6,
   "id": "4a8a9cce",
   "metadata": {},
   "outputs": [],
   "source": [
    "for col in categorical_cols:\n",
    "    le = LabelEncoder()\n",
    "    df[col] = le.fit_transform(df[col])\n",
    "    label_encoders[col] = le  # Save encoder if you want to reverse or apply on new data\n"
   ]
  },
  {
   "cell_type": "code",
   "execution_count": 7,
   "id": "01435350",
   "metadata": {},
   "outputs": [
    {
     "name": "stdout",
     "output_type": "stream",
     "text": [
      "Encoded dataset head:\n"
     ]
    },
    {
     "data": {
      "text/html": [
       "<div>\n",
       "<style scoped>\n",
       "    .dataframe tbody tr th:only-of-type {\n",
       "        vertical-align: middle;\n",
       "    }\n",
       "\n",
       "    .dataframe tbody tr th {\n",
       "        vertical-align: top;\n",
       "    }\n",
       "\n",
       "    .dataframe thead th {\n",
       "        text-align: right;\n",
       "    }\n",
       "</style>\n",
       "<table border=\"1\" class=\"dataframe\">\n",
       "  <thead>\n",
       "    <tr style=\"text-align: right;\">\n",
       "      <th></th>\n",
       "      <th>Age</th>\n",
       "      <th>Sex</th>\n",
       "      <th>ChestPainType</th>\n",
       "      <th>RestingBP</th>\n",
       "      <th>Cholesterol</th>\n",
       "      <th>FastingBS</th>\n",
       "      <th>RestingECG</th>\n",
       "      <th>MaxHR</th>\n",
       "      <th>ExerciseAngina</th>\n",
       "      <th>Oldpeak</th>\n",
       "      <th>ST_Slope</th>\n",
       "      <th>HeartDisease</th>\n",
       "    </tr>\n",
       "  </thead>\n",
       "  <tbody>\n",
       "    <tr>\n",
       "      <th>0</th>\n",
       "      <td>40</td>\n",
       "      <td>1</td>\n",
       "      <td>1</td>\n",
       "      <td>140</td>\n",
       "      <td>289</td>\n",
       "      <td>0</td>\n",
       "      <td>1</td>\n",
       "      <td>172</td>\n",
       "      <td>0</td>\n",
       "      <td>0.0</td>\n",
       "      <td>2</td>\n",
       "      <td>0</td>\n",
       "    </tr>\n",
       "    <tr>\n",
       "      <th>1</th>\n",
       "      <td>49</td>\n",
       "      <td>0</td>\n",
       "      <td>2</td>\n",
       "      <td>160</td>\n",
       "      <td>180</td>\n",
       "      <td>0</td>\n",
       "      <td>1</td>\n",
       "      <td>156</td>\n",
       "      <td>0</td>\n",
       "      <td>1.0</td>\n",
       "      <td>1</td>\n",
       "      <td>1</td>\n",
       "    </tr>\n",
       "    <tr>\n",
       "      <th>2</th>\n",
       "      <td>37</td>\n",
       "      <td>1</td>\n",
       "      <td>1</td>\n",
       "      <td>130</td>\n",
       "      <td>283</td>\n",
       "      <td>0</td>\n",
       "      <td>2</td>\n",
       "      <td>98</td>\n",
       "      <td>0</td>\n",
       "      <td>0.0</td>\n",
       "      <td>2</td>\n",
       "      <td>0</td>\n",
       "    </tr>\n",
       "    <tr>\n",
       "      <th>3</th>\n",
       "      <td>48</td>\n",
       "      <td>0</td>\n",
       "      <td>0</td>\n",
       "      <td>138</td>\n",
       "      <td>214</td>\n",
       "      <td>0</td>\n",
       "      <td>1</td>\n",
       "      <td>108</td>\n",
       "      <td>1</td>\n",
       "      <td>1.5</td>\n",
       "      <td>1</td>\n",
       "      <td>1</td>\n",
       "    </tr>\n",
       "    <tr>\n",
       "      <th>4</th>\n",
       "      <td>54</td>\n",
       "      <td>1</td>\n",
       "      <td>2</td>\n",
       "      <td>150</td>\n",
       "      <td>195</td>\n",
       "      <td>0</td>\n",
       "      <td>1</td>\n",
       "      <td>122</td>\n",
       "      <td>0</td>\n",
       "      <td>0.0</td>\n",
       "      <td>2</td>\n",
       "      <td>0</td>\n",
       "    </tr>\n",
       "  </tbody>\n",
       "</table>\n",
       "</div>"
      ],
      "text/plain": [
       "   Age  Sex  ChestPainType  RestingBP  Cholesterol  FastingBS  RestingECG  \\\n",
       "0   40    1              1        140          289          0           1   \n",
       "1   49    0              2        160          180          0           1   \n",
       "2   37    1              1        130          283          0           2   \n",
       "3   48    0              0        138          214          0           1   \n",
       "4   54    1              2        150          195          0           1   \n",
       "\n",
       "   MaxHR  ExerciseAngina  Oldpeak  ST_Slope  HeartDisease  \n",
       "0    172               0      0.0         2             0  \n",
       "1    156               0      1.0         1             1  \n",
       "2     98               0      0.0         2             0  \n",
       "3    108               1      1.5         1             1  \n",
       "4    122               0      0.0         2             0  "
      ]
     },
     "metadata": {},
     "output_type": "display_data"
    }
   ],
   "source": [
    "# 🔍 Check the transformed dataset\n",
    "print(\"Encoded dataset head:\")\n",
    "display(df.head())\n"
   ]
  },
  {
   "cell_type": "code",
   "execution_count": 8,
   "id": "563f8f27",
   "metadata": {},
   "outputs": [],
   "source": [
    "# 🔄 Optional: Normalize numeric features\n",
    "features_to_scale = ['Age', 'RestingBP', 'Cholesterol', 'MaxHR', 'Oldpeak']\n",
    "scaler = StandardScaler()\n",
    "df[features_to_scale] = scaler.fit_transform(df[features_to_scale])\n"
   ]
  },
  {
   "cell_type": "code",
   "execution_count": 9,
   "id": "8880b44a",
   "metadata": {},
   "outputs": [],
   "source": [
    "# 🎯 Split into X and y\n",
    "X = df.drop('HeartDisease', axis=1)\n",
    "y = df['HeartDisease']\n"
   ]
  },
  {
   "cell_type": "code",
   "execution_count": 10,
   "id": "4457943f",
   "metadata": {},
   "outputs": [],
   "source": [
    "# 🔀 Split into train and test sets\n",
    "X_train, X_test, y_train, y_test = train_test_split(X, y, test_size=0.2, random_state=42)"
   ]
  },
  {
   "cell_type": "code",
   "execution_count": 13,
   "id": "18a07a3a",
   "metadata": {},
   "outputs": [],
   "source": [
    "# 💾 Save processed datasets (optional)\n",
    "X_train.to_csv(\"C:\\\\Users\\\\popli\\\\OneDrive\\\\Desktop\\\\PromptEngineering\\\\X_train.csv\", index=False)\n",
    "X_test.to_csv(\"C:\\\\Users\\\\popli\\\\OneDrive\\\\Desktop\\\\PromptEngineering\\\\X_test.csv\", index=False)\n",
    "y_train.to_csv(\"C:\\\\Users\\\\popli\\\\OneDrive\\\\Desktop\\\\PromptEngineering\\\\y_train.csv\", index=False)\n",
    "y_test.to_csv(\"C:\\\\Users\\\\popli\\\\OneDrive\\\\Desktop\\\\PromptEngineering\\\\y_test.csv\", index=False)"
   ]
  },
  {
   "cell_type": "code",
   "execution_count": 14,
   "id": "599cfcc1",
   "metadata": {},
   "outputs": [
    {
     "name": "stdout",
     "output_type": "stream",
     "text": [
      "✅ Data preparation complete.\n"
     ]
    }
   ],
   "source": [
    "print(\"✅ Data preparation complete.\")"
   ]
  }
 ],
 "metadata": {
  "kernelspec": {
   "display_name": "Python 3",
   "language": "python",
   "name": "python3"
  },
  "language_info": {
   "codemirror_mode": {
    "name": "ipython",
    "version": 3
   },
   "file_extension": ".py",
   "mimetype": "text/x-python",
   "name": "python",
   "nbconvert_exporter": "python",
   "pygments_lexer": "ipython3",
   "version": "3.11.9"
  }
 },
 "nbformat": 4,
 "nbformat_minor": 5
}
